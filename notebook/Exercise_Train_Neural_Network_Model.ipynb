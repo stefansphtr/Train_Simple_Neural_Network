{
  "cells": [
    {
      "cell_type": "markdown",
      "metadata": {
        "id": "m8eE92-mibiY"
      },
      "source": [
        "# Train a neural network model to match the X to the Y"
      ]
    },
    {
      "cell_type": "markdown",
      "metadata": {},
      "source": [
        "## Author\n",
        "- Name: Stefanus Bernard Melkisedek\n",
        "- Bangkit ID: m741d4ky3073\n",
        "- Email: stefanussipahutar@gmail.com"
      ]
    },
    {
      "cell_type": "markdown",
      "metadata": {},
      "source": [
        "# Introduction\n",
        "\n",
        "In the previous **Bangkit ILT Tech Session**, I had the opportunity to attend a class on **Mastering Unsupervised Learning** and **ANN Basics: An Overview**. This class was led by the talented instructor, [Rahmat Fajri](https://github.com/rfajri27). \n",
        "\n",
        "During this session, we were given an interesting challenge: _Train a neural network model to match the X to the Y_. I was drawn by this challenge, and I would tackle it using the **TensorFlow** library.\n",
        "\n",
        "The challenge revolves around training a neural network model to match the X (input) to the Y (output). Both X and Y are sequences of numbers. The goal is for the model to predict Y given X. The model is trained using training data and evaluated with validation data. Ultimately, the model should be able to generalize well to the test data."
      ]
    },
    {
      "cell_type": "code",
      "execution_count": 32,
      "metadata": {
        "id": "IxTrDgUYhPOT"
      },
      "outputs": [],
      "source": [
        "# Import the necesary libraries\n",
        "import tensorflow as tf\n",
        "import matplotlib.pyplot as plt\n",
        "import numpy as np\n",
        "\n",
        "# Import the custom module\n",
        "import sys\n",
        "sys.path.append(\"../scripts/\")\n",
        "import utility as util"
      ]
    },
    {
      "cell_type": "code",
      "execution_count": 14,
      "metadata": {
        "id": "sgebZNI8igB4"
      },
      "outputs": [],
      "source": [
        "# Defining the input array 'X'\n",
        "X = np.array([-4.0, -3.0, -2.0, -1.0, 0.0, 1.0, 2.0, 3.0, 4.0, 5.0], dtype=float)\n",
        "\n",
        "# Defining the output array 'Y'\n",
        "Y = np.array([5.0, 6.0, 7.0, 8.0, 9.0, 10.0, 11.0, 12.0, 13.0, 14.0], dtype=float)"
      ]
    },
    {
      "cell_type": "markdown",
      "metadata": {},
      "source": [
        "## Prepared the Dataset"
      ]
    },
    {
      "cell_type": "markdown",
      "metadata": {},
      "source": [
        "### Add extra dimension to the dataset\n",
        "\n",
        "Neural networks in TensorFlow expect input data to be in a certain shape. Specifically, they expect each input to be a tensor (a multi-dimensional array) of a certain rank (number of dimensions).\n",
        "\n",
        "When create a `tf.data.Dataset` using `from_tensor_slices`, each element of the dataset has the same shape as the slices passed in. If `X` and `Y` are 1D arrays, then each element of the dataset will be a scalar (a 0D tensor).\n",
        "\n",
        "However, many neural networks expect each input to be at least a 1D tensor (an array of scalars), not a scalar itself. This is because each input often represents multiple features of a data point, and each feature is a separate element in the input tensor.\n",
        "\n",
        "By using `np.expand_dims(X, axis=-1)`, this will add an extra dimension to `X`, turning it from a 1D array of scalars into a 2D array of 1D arrays. This means that each element of the resulting dataset will be a 1D array (a tensor of rank 1), which is the shape that the neural network expects for its inputs.\n",
        "\n",
        "The same reasoning applies to `Y`. Even though `Y` represents the target values rather than the input data, it still needs to be in the shape that the neural network expects for its targets.\n",
        "\n",
        "So, to summarize: Why do I add an extra dimension to `X` and `Y` ? It is to ensure that each element of the dataset is in the shape that the neural network expects. If I don't do this, the neural network will raise a `ValueError` when I try to train it."
      ]
    },
    {
      "cell_type": "code",
      "execution_count": 21,
      "metadata": {},
      "outputs": [],
      "source": [
        "# Add an extra dimension to X and Y\n",
        "X = np.expand_dims(X, axis=-1)\n",
        "Y = np.expand_dims(Y, axis=-1)"
      ]
    },
    {
      "cell_type": "markdown",
      "metadata": {},
      "source": [
        "### Creating a TensorFlow Dataset from Input and Target Arrays"
      ]
    },
    {
      "cell_type": "markdown",
      "metadata": {},
      "source": [
        "When training a model in TensorFlow, the model's `fit` method expects the data to be in a certain format. Specifically, it expects a tuple of `(inputs, targets)`. \n",
        "\n",
        "If I just pass in the `X` array, the model wouldn't know what the corresponding target values are. It wouldn't know what it's supposed to be predicting. \n",
        "\n",
        "By creating a `tf.data.Dataset` using `from_tensor_slices`, I packaging the input data (`X`) and the target data (`Y`) together in the format that the model expects. Each element of the dataset is a tuple of `(input, target)`, so the model knows that for each input, there's a corresponding target that it should be predicting.\n",
        "\n",
        "This is why I need to create a `tf.data.Dataset` from the `X` and `Y` arrays. It's all about getting the data into the format that the model expects."
      ]
    },
    {
      "cell_type": "code",
      "execution_count": 22,
      "metadata": {},
      "outputs": [],
      "source": [
        "# Create a tf.data.Dataset\n",
        "dataset = tf.data.Dataset.from_tensor_slices((X, Y))"
      ]
    },
    {
      "cell_type": "markdown",
      "metadata": {},
      "source": [
        "## Define Custom Callback"
      ]
    },
    {
      "cell_type": "code",
      "execution_count": 79,
      "metadata": {},
      "outputs": [],
      "source": [
        "class LossCallback(tf.keras.callbacks.Callback):\n",
        "    def on_epoch_end(self, epoch, logs=None):\n",
        "        # If logs dictionary is None, initialize it as an empty dictionary\n",
        "        if logs is None:\n",
        "            logs = {}\n",
        "\n",
        "        # If loss is less than a certain threshold, stop training\n",
        "        if logs.get('loss') < 0.05:  \n",
        "            print(\"\\nReached 0.05 loss so cancelling training!\")\n",
        "            self.model.stop_training = True"
      ]
    },
    {
      "cell_type": "markdown",
      "metadata": {},
      "source": [
        "## Build a Neural Network Model"
      ]
    },
    {
      "cell_type": "markdown",
      "metadata": {},
      "source": [
        "### Create the Model"
      ]
    },
    {
      "cell_type": "code",
      "execution_count": 70,
      "metadata": {},
      "outputs": [],
      "source": [
        "def create_uncompiled_model():\n",
        "    \"\"\"\n",
        "    This function creates an uncompiled simple neural network model\n",
        "    with two hidden layers and returns it.\n",
        "    \"\"\"\n",
        "\n",
        "    # Defining a simple neural network model\n",
        "    model = tf.keras.Sequential(\n",
        "        [\n",
        "            # Input layer with 1 input feature\n",
        "            tf.keras.layers.InputLayer(shape=[1]),\n",
        "            # First hidden layer with 16 neurons and ReLU activation function\n",
        "            tf.keras.layers.Dense(units=16, activation=\"relu\"),\n",
        "            # Second hidden layer with 8 neurons and ReLU activation function\n",
        "            tf.keras.layers.Dense(units=8, activation=\"relu\"),\n",
        "            # Output layer with 1 neuron\n",
        "            tf.keras.layers.Dense(units=1),\n",
        "        ]\n",
        "    )\n",
        "\n",
        "    # Returning the uncompiled model\n",
        "    return model"
      ]
    },
    {
      "cell_type": "code",
      "execution_count": 71,
      "metadata": {},
      "outputs": [
        {
          "data": {
            "text/html": [
              "<pre style=\"white-space:pre;overflow-x:auto;line-height:normal;font-family:Menlo,'DejaVu Sans Mono',consolas,'Courier New',monospace\"><span style=\"font-weight: bold\">Model: \"sequential_4\"</span>\n",
              "</pre>\n"
            ],
            "text/plain": [
              "\u001b[1mModel: \"sequential_4\"\u001b[0m\n"
            ]
          },
          "metadata": {},
          "output_type": "display_data"
        },
        {
          "data": {
            "text/html": [
              "<pre style=\"white-space:pre;overflow-x:auto;line-height:normal;font-family:Menlo,'DejaVu Sans Mono',consolas,'Courier New',monospace\">┏━━━━━━━━━━━━━━━━━━━━━━━━━━━━━━━━━┳━━━━━━━━━━━━━━━━━━━━━━━━┳━━━━━━━━━━━━━━━┓\n",
              "┃<span style=\"font-weight: bold\"> Layer (type)                    </span>┃<span style=\"font-weight: bold\"> Output Shape           </span>┃<span style=\"font-weight: bold\">       Param # </span>┃\n",
              "┡━━━━━━━━━━━━━━━━━━━━━━━━━━━━━━━━━╇━━━━━━━━━━━━━━━━━━━━━━━━╇━━━━━━━━━━━━━━━┩\n",
              "│ dense_12 (<span style=\"color: #0087ff; text-decoration-color: #0087ff\">Dense</span>)                │ (<span style=\"color: #00d7ff; text-decoration-color: #00d7ff\">None</span>, <span style=\"color: #00af00; text-decoration-color: #00af00\">16</span>)             │            <span style=\"color: #00af00; text-decoration-color: #00af00\">32</span> │\n",
              "├─────────────────────────────────┼────────────────────────┼───────────────┤\n",
              "│ dense_13 (<span style=\"color: #0087ff; text-decoration-color: #0087ff\">Dense</span>)                │ (<span style=\"color: #00d7ff; text-decoration-color: #00d7ff\">None</span>, <span style=\"color: #00af00; text-decoration-color: #00af00\">8</span>)              │           <span style=\"color: #00af00; text-decoration-color: #00af00\">136</span> │\n",
              "├─────────────────────────────────┼────────────────────────┼───────────────┤\n",
              "│ dense_14 (<span style=\"color: #0087ff; text-decoration-color: #0087ff\">Dense</span>)                │ (<span style=\"color: #00d7ff; text-decoration-color: #00d7ff\">None</span>, <span style=\"color: #00af00; text-decoration-color: #00af00\">1</span>)              │             <span style=\"color: #00af00; text-decoration-color: #00af00\">9</span> │\n",
              "└─────────────────────────────────┴────────────────────────┴───────────────┘\n",
              "</pre>\n"
            ],
            "text/plain": [
              "┏━━━━━━━━━━━━━━━━━━━━━━━━━━━━━━━━━┳━━━━━━━━━━━━━━━━━━━━━━━━┳━━━━━━━━━━━━━━━┓\n",
              "┃\u001b[1m \u001b[0m\u001b[1mLayer (type)                   \u001b[0m\u001b[1m \u001b[0m┃\u001b[1m \u001b[0m\u001b[1mOutput Shape          \u001b[0m\u001b[1m \u001b[0m┃\u001b[1m \u001b[0m\u001b[1m      Param #\u001b[0m\u001b[1m \u001b[0m┃\n",
              "┡━━━━━━━━━━━━━━━━━━━━━━━━━━━━━━━━━╇━━━━━━━━━━━━━━━━━━━━━━━━╇━━━━━━━━━━━━━━━┩\n",
              "│ dense_12 (\u001b[38;5;33mDense\u001b[0m)                │ (\u001b[38;5;45mNone\u001b[0m, \u001b[38;5;34m16\u001b[0m)             │            \u001b[38;5;34m32\u001b[0m │\n",
              "├─────────────────────────────────┼────────────────────────┼───────────────┤\n",
              "│ dense_13 (\u001b[38;5;33mDense\u001b[0m)                │ (\u001b[38;5;45mNone\u001b[0m, \u001b[38;5;34m8\u001b[0m)              │           \u001b[38;5;34m136\u001b[0m │\n",
              "├─────────────────────────────────┼────────────────────────┼───────────────┤\n",
              "│ dense_14 (\u001b[38;5;33mDense\u001b[0m)                │ (\u001b[38;5;45mNone\u001b[0m, \u001b[38;5;34m1\u001b[0m)              │             \u001b[38;5;34m9\u001b[0m │\n",
              "└─────────────────────────────────┴────────────────────────┴───────────────┘\n"
            ]
          },
          "metadata": {},
          "output_type": "display_data"
        },
        {
          "data": {
            "text/html": [
              "<pre style=\"white-space:pre;overflow-x:auto;line-height:normal;font-family:Menlo,'DejaVu Sans Mono',consolas,'Courier New',monospace\"><span style=\"font-weight: bold\"> Total params: </span><span style=\"color: #00af00; text-decoration-color: #00af00\">177</span> (708.00 B)\n",
              "</pre>\n"
            ],
            "text/plain": [
              "\u001b[1m Total params: \u001b[0m\u001b[38;5;34m177\u001b[0m (708.00 B)\n"
            ]
          },
          "metadata": {},
          "output_type": "display_data"
        },
        {
          "data": {
            "text/html": [
              "<pre style=\"white-space:pre;overflow-x:auto;line-height:normal;font-family:Menlo,'DejaVu Sans Mono',consolas,'Courier New',monospace\"><span style=\"font-weight: bold\"> Trainable params: </span><span style=\"color: #00af00; text-decoration-color: #00af00\">177</span> (708.00 B)\n",
              "</pre>\n"
            ],
            "text/plain": [
              "\u001b[1m Trainable params: \u001b[0m\u001b[38;5;34m177\u001b[0m (708.00 B)\n"
            ]
          },
          "metadata": {},
          "output_type": "display_data"
        },
        {
          "data": {
            "text/html": [
              "<pre style=\"white-space:pre;overflow-x:auto;line-height:normal;font-family:Menlo,'DejaVu Sans Mono',consolas,'Courier New',monospace\"><span style=\"font-weight: bold\"> Non-trainable params: </span><span style=\"color: #00af00; text-decoration-color: #00af00\">0</span> (0.00 B)\n",
              "</pre>\n"
            ],
            "text/plain": [
              "\u001b[1m Non-trainable params: \u001b[0m\u001b[38;5;34m0\u001b[0m (0.00 B)\n"
            ]
          },
          "metadata": {},
          "output_type": "display_data"
        }
      ],
      "source": [
        "# Create the Neural Network Model\n",
        "model = create_uncompiled_model()\n",
        "\n",
        "# Print the summary of the model\n",
        "model.summary()"
      ]
    },
    {
      "cell_type": "markdown",
      "metadata": {},
      "source": [
        "## Tune Learning rate"
      ]
    },
    {
      "cell_type": "code",
      "execution_count": 72,
      "metadata": {},
      "outputs": [],
      "source": [
        "# Get initial weights\n",
        "init_weights = model.get_weights()"
      ]
    },
    {
      "cell_type": "code",
      "execution_count": 73,
      "metadata": {},
      "outputs": [],
      "source": [
        "def adjust_learning_rate(training_dataset):\n",
        "    \"\"\"\n",
        "    This function adjusts the learning rate for the model training process.\n",
        "    It creates an uncompiled model, sets a learning rate schedule, compiles the model,\n",
        "    and then fits the model to the provided dataset.\n",
        "\n",
        "    Args:\n",
        "        training_dataset: The dataset to be used for training the model.\n",
        "\n",
        "    Returns:\n",
        "        The history of the model training process.\n",
        "    \"\"\"\n",
        "\n",
        "    # Create an uncompiled model\n",
        "    model = create_uncompiled_model()\n",
        "\n",
        "    # Define a learning rate schedule. The learning rate changes with each epoch.\n",
        "    learning_rate_schedule = tf.keras.callbacks.LearningRateScheduler(\n",
        "        lambda epoch: 1e-3 * 10 ** (epoch / 20)\n",
        "    )\n",
        "\n",
        "    # Select the Adam optimizer for the model\n",
        "    adam_optimizer = tf.keras.optimizers.Adam()\n",
        "\n",
        "    # Select the Huber loss for the model\n",
        "    huber_loss = tf.keras.losses.Huber()\n",
        "\n",
        "    # Select the Mean Squared Error as the metric for the model\n",
        "    mse_metric = tf.keras.metrics.MeanSquaredError()\n",
        "\n",
        "    # Compile the model with the Mean Squared Error loss, Adam optimizer, and accuracy as a metric\n",
        "    model.compile(loss=huber_loss, optimizer=adam_optimizer, metrics=[mse_metric])\n",
        "\n",
        "    # Fit the model to the dataset for 100 epochs, adjusting the learning rate according to the schedule\n",
        "    training_history = model.fit(\n",
        "        training_dataset, epochs=100, callbacks=[learning_rate_schedule]\n",
        "    )\n",
        "\n",
        "    return training_history"
      ]
    },
    {
      "cell_type": "code",
      "execution_count": 74,
      "metadata": {},
      "outputs": [
        {
          "name": "stdout",
          "output_type": "stream",
          "text": [
            "Epoch 1/100\n"
          ]
        },
        {
          "name": "stdout",
          "output_type": "stream",
          "text": [
            "\u001b[1m10/10\u001b[0m \u001b[32m━━━━━━━━━━━━━━━━━━━━\u001b[0m\u001b[37m\u001b[0m \u001b[1m2s\u001b[0m 2ms/step - loss: 6.2907 - mean_squared_error: 54.0460 - learning_rate: 0.0010\n",
            "Epoch 2/100\n",
            "\u001b[1m10/10\u001b[0m \u001b[32m━━━━━━━━━━━━━━━━━━━━\u001b[0m\u001b[37m\u001b[0m \u001b[1m0s\u001b[0m 2ms/step - loss: 6.0927 - mean_squared_error: 51.7224 - learning_rate: 0.0011\n",
            "Epoch 3/100\n",
            "\u001b[1m10/10\u001b[0m \u001b[32m━━━━━━━━━━━━━━━━━━━━\u001b[0m\u001b[37m\u001b[0m \u001b[1m0s\u001b[0m 940us/step - loss: 5.8960 - mean_squared_error: 49.4626 - learning_rate: 0.0013\n",
            "Epoch 4/100\n",
            "\u001b[1m10/10\u001b[0m \u001b[32m━━━━━━━━━━━━━━━━━━━━\u001b[0m\u001b[37m\u001b[0m \u001b[1m0s\u001b[0m 1ms/step - loss: 5.6731 - mean_squared_error: 47.0463 - learning_rate: 0.0014\n",
            "Epoch 5/100\n",
            "\u001b[1m10/10\u001b[0m \u001b[32m━━━━━━━━━━━━━━━━━━━━\u001b[0m\u001b[37m\u001b[0m \u001b[1m0s\u001b[0m 1ms/step - loss: 5.4098 - mean_squared_error: 44.3437 - learning_rate: 0.0016\n",
            "Epoch 6/100\n",
            "\u001b[1m10/10\u001b[0m \u001b[32m━━━━━━━━━━━━━━━━━━━━\u001b[0m\u001b[37m\u001b[0m \u001b[1m0s\u001b[0m 1ms/step - loss: 5.0935 - mean_squared_error: 41.3170 - learning_rate: 0.0018\n",
            "Epoch 7/100\n",
            "\u001b[1m10/10\u001b[0m \u001b[32m━━━━━━━━━━━━━━━━━━━━\u001b[0m\u001b[37m\u001b[0m \u001b[1m0s\u001b[0m 2ms/step - loss: 4.7123 - mean_squared_error: 37.9668 - learning_rate: 0.0020\n",
            "Epoch 8/100\n",
            "\u001b[1m10/10\u001b[0m \u001b[32m━━━━━━━━━━━━━━━━━━━━\u001b[0m\u001b[37m\u001b[0m \u001b[1m0s\u001b[0m 2ms/step - loss: 4.2499 - mean_squared_error: 34.2943 - learning_rate: 0.0022\n",
            "Epoch 9/100\n",
            "\u001b[1m10/10\u001b[0m \u001b[32m━━━━━━━━━━━━━━━━━━━━\u001b[0m\u001b[37m\u001b[0m \u001b[1m0s\u001b[0m 2ms/step - loss: 3.8490 - mean_squared_error: 30.6259 - learning_rate: 0.0025\n",
            "Epoch 10/100\n",
            "\u001b[1m10/10\u001b[0m \u001b[32m━━━━━━━━━━━━━━━━━━━━\u001b[0m\u001b[37m\u001b[0m \u001b[1m0s\u001b[0m 1ms/step - loss: 3.6379 - mean_squared_error: 27.2572 - learning_rate: 0.0028\n",
            "Epoch 11/100\n",
            "\u001b[1m10/10\u001b[0m \u001b[32m━━━━━━━━━━━━━━━━━━━━\u001b[0m\u001b[37m\u001b[0m \u001b[1m0s\u001b[0m 2ms/step - loss: 3.4773 - mean_squared_error: 24.0267 - learning_rate: 0.0032\n",
            "Epoch 12/100\n",
            "\u001b[1m10/10\u001b[0m \u001b[32m━━━━━━━━━━━━━━━━━━━━\u001b[0m\u001b[37m\u001b[0m \u001b[1m0s\u001b[0m 3ms/step - loss: 3.3076 - mean_squared_error: 20.7727 - learning_rate: 0.0035\n",
            "Epoch 13/100\n",
            "\u001b[1m10/10\u001b[0m \u001b[32m━━━━━━━━━━━━━━━━━━━━\u001b[0m\u001b[37m\u001b[0m \u001b[1m0s\u001b[0m 2ms/step - loss: 3.0433 - mean_squared_error: 16.9388 - learning_rate: 0.0040\n",
            "Epoch 14/100\n",
            "\u001b[1m10/10\u001b[0m \u001b[32m━━━━━━━━━━━━━━━━━━━━\u001b[0m\u001b[37m\u001b[0m \u001b[1m0s\u001b[0m 1ms/step - loss: 2.6617 - mean_squared_error: 13.2100 - learning_rate: 0.0045\n",
            "Epoch 15/100\n",
            "\u001b[1m10/10\u001b[0m \u001b[32m━━━━━━━━━━━━━━━━━━━━\u001b[0m\u001b[37m\u001b[0m \u001b[1m0s\u001b[0m 2ms/step - loss: 2.4726 - mean_squared_error: 11.3571 - learning_rate: 0.0050\n",
            "Epoch 16/100\n",
            "\u001b[1m10/10\u001b[0m \u001b[32m━━━━━━━━━━━━━━━━━━━━\u001b[0m\u001b[37m\u001b[0m \u001b[1m0s\u001b[0m 909us/step - loss: 2.2996 - mean_squared_error: 10.1159 - learning_rate: 0.0056\n",
            "Epoch 17/100\n",
            "\u001b[1m10/10\u001b[0m \u001b[32m━━━━━━━━━━━━━━━━━━━━\u001b[0m\u001b[37m\u001b[0m \u001b[1m0s\u001b[0m 2ms/step - loss: 2.1247 - mean_squared_error: 9.0587 - learning_rate: 0.0063\n",
            "Epoch 18/100\n",
            "\u001b[1m10/10\u001b[0m \u001b[32m━━━━━━━━━━━━━━━━━━━━\u001b[0m\u001b[37m\u001b[0m \u001b[1m0s\u001b[0m 1ms/step - loss: 1.9892 - mean_squared_error: 8.2131 - learning_rate: 0.0071\n",
            "Epoch 19/100\n",
            "\u001b[1m10/10\u001b[0m \u001b[32m━━━━━━━━━━━━━━━━━━━━\u001b[0m\u001b[37m\u001b[0m \u001b[1m0s\u001b[0m 1ms/step - loss: 1.8474 - mean_squared_error: 7.1724 - learning_rate: 0.0079\n",
            "Epoch 20/100\n",
            "\u001b[1m10/10\u001b[0m \u001b[32m━━━━━━━━━━━━━━━━━━━━\u001b[0m\u001b[37m\u001b[0m \u001b[1m0s\u001b[0m 2ms/step - loss: 1.7413 - mean_squared_error: 6.2964 - learning_rate: 0.0089\n",
            "Epoch 21/100\n",
            "\u001b[1m10/10\u001b[0m \u001b[32m━━━━━━━━━━━━━━━━━━━━\u001b[0m\u001b[37m\u001b[0m \u001b[1m0s\u001b[0m 2ms/step - loss: 1.6221 - mean_squared_error: 5.5116 - learning_rate: 0.0100\n",
            "Epoch 22/100\n",
            "\u001b[1m10/10\u001b[0m \u001b[32m━━━━━━━━━━━━━━━━━━━━\u001b[0m\u001b[37m\u001b[0m \u001b[1m0s\u001b[0m 2ms/step - loss: 1.4706 - mean_squared_error: 4.6541 - learning_rate: 0.0112\n",
            "Epoch 23/100\n",
            "\u001b[1m10/10\u001b[0m \u001b[32m━━━━━━━━━━━━━━━━━━━━\u001b[0m\u001b[37m\u001b[0m \u001b[1m0s\u001b[0m 2ms/step - loss: 1.1440 - mean_squared_error: 3.2406 - learning_rate: 0.0126\n",
            "Epoch 24/100\n",
            "\u001b[1m10/10\u001b[0m \u001b[32m━━━━━━━━━━━━━━━━━━━━\u001b[0m\u001b[37m\u001b[0m \u001b[1m0s\u001b[0m 1ms/step - loss: 0.9117 - mean_squared_error: 2.3493 - learning_rate: 0.0141\n",
            "Epoch 25/100\n",
            "\u001b[1m10/10\u001b[0m \u001b[32m━━━━━━━━━━━━━━━━━━━━\u001b[0m\u001b[37m\u001b[0m \u001b[1m0s\u001b[0m 2ms/step - loss: 0.1886 - mean_squared_error: 0.3772 - learning_rate: 0.0158\n",
            "Epoch 26/100\n",
            "\u001b[1m10/10\u001b[0m \u001b[32m━━━━━━━━━━━━━━━━━━━━\u001b[0m\u001b[37m\u001b[0m \u001b[1m0s\u001b[0m 2ms/step - loss: 1.4803 - mean_squared_error: 5.7287 - learning_rate: 0.0178\n",
            "Epoch 27/100\n",
            "\u001b[1m10/10\u001b[0m \u001b[32m━━━━━━━━━━━━━━━━━━━━\u001b[0m\u001b[37m\u001b[0m \u001b[1m0s\u001b[0m 1ms/step - loss: 3.1454 - mean_squared_error: 17.4043 - learning_rate: 0.0200\n",
            "Epoch 28/100\n",
            "\u001b[1m10/10\u001b[0m \u001b[32m━━━━━━━━━━━━━━━━━━━━\u001b[0m\u001b[37m\u001b[0m \u001b[1m0s\u001b[0m 2ms/step - loss: 1.4126 - mean_squared_error: 4.6590 - learning_rate: 0.0224\n",
            "Epoch 29/100\n",
            "\u001b[1m10/10\u001b[0m \u001b[32m━━━━━━━━━━━━━━━━━━━━\u001b[0m\u001b[37m\u001b[0m \u001b[1m0s\u001b[0m 1ms/step - loss: 1.7137 - mean_squared_error: 5.1520 - learning_rate: 0.0251\n",
            "Epoch 30/100\n",
            "\u001b[1m10/10\u001b[0m \u001b[32m━━━━━━━━━━━━━━━━━━━━\u001b[0m\u001b[37m\u001b[0m \u001b[1m0s\u001b[0m 1ms/step - loss: 0.8416 - mean_squared_error: 2.2210 - learning_rate: 0.0282\n",
            "Epoch 31/100\n",
            "\u001b[1m10/10\u001b[0m \u001b[32m━━━━━━━━━━━━━━━━━━━━\u001b[0m\u001b[37m\u001b[0m \u001b[1m0s\u001b[0m 2ms/step - loss: 2.2302 - mean_squared_error: 10.7556 - learning_rate: 0.0316\n",
            "Epoch 32/100\n",
            "\u001b[1m10/10\u001b[0m \u001b[32m━━━━━━━━━━━━━━━━━━━━\u001b[0m\u001b[37m\u001b[0m \u001b[1m0s\u001b[0m 2ms/step - loss: 1.1223 - mean_squared_error: 3.2100 - learning_rate: 0.0355\n",
            "Epoch 33/100\n",
            "\u001b[1m10/10\u001b[0m \u001b[32m━━━━━━━━━━━━━━━━━━━━\u001b[0m\u001b[37m\u001b[0m \u001b[1m0s\u001b[0m 2ms/step - loss: 2.7894 - mean_squared_error: 13.3248 - learning_rate: 0.0398\n",
            "Epoch 34/100\n",
            "\u001b[1m10/10\u001b[0m \u001b[32m━━━━━━━━━━━━━━━━━━━━\u001b[0m\u001b[37m\u001b[0m \u001b[1m0s\u001b[0m 2ms/step - loss: 3.5935 - mean_squared_error: 18.1203 - learning_rate: 0.0447\n",
            "Epoch 35/100\n",
            "\u001b[1m10/10\u001b[0m \u001b[32m━━━━━━━━━━━━━━━━━━━━\u001b[0m\u001b[37m\u001b[0m \u001b[1m0s\u001b[0m 2ms/step - loss: 2.7189 - mean_squared_error: 11.1134 - learning_rate: 0.0501\n",
            "Epoch 36/100\n",
            "\u001b[1m10/10\u001b[0m \u001b[32m━━━━━━━━━━━━━━━━━━━━\u001b[0m\u001b[37m\u001b[0m \u001b[1m0s\u001b[0m 1ms/step - loss: 0.3666 - mean_squared_error: 0.7653 - learning_rate: 0.0562\n",
            "Epoch 37/100\n",
            "\u001b[1m10/10\u001b[0m \u001b[32m━━━━━━━━━━━━━━━━━━━━\u001b[0m\u001b[37m\u001b[0m \u001b[1m0s\u001b[0m 1ms/step - loss: 1.5177 - mean_squared_error: 5.4072 - learning_rate: 0.0631\n",
            "Epoch 38/100\n",
            "\u001b[1m10/10\u001b[0m \u001b[32m━━━━━━━━━━━━━━━━━━━━\u001b[0m\u001b[37m\u001b[0m \u001b[1m0s\u001b[0m 2ms/step - loss: 0.5800 - mean_squared_error: 1.4723 - learning_rate: 0.0708\n",
            "Epoch 39/100\n",
            "\u001b[1m10/10\u001b[0m \u001b[32m━━━━━━━━━━━━━━━━━━━━\u001b[0m\u001b[37m\u001b[0m \u001b[1m0s\u001b[0m 1ms/step - loss: 0.9898 - mean_squared_error: 2.5265 - learning_rate: 0.0794\n",
            "Epoch 40/100\n",
            "\u001b[1m10/10\u001b[0m \u001b[32m━━━━━━━━━━━━━━━━━━━━\u001b[0m\u001b[37m\u001b[0m \u001b[1m0s\u001b[0m 1ms/step - loss: 0.6614 - mean_squared_error: 1.5685 - learning_rate: 0.0891\n",
            "Epoch 41/100\n",
            "\u001b[1m10/10\u001b[0m \u001b[32m━━━━━━━━━━━━━━━━━━━━\u001b[0m\u001b[37m\u001b[0m \u001b[1m0s\u001b[0m 3ms/step - loss: 1.9695 - mean_squared_error: 8.6871 - learning_rate: 0.1000\n",
            "Epoch 42/100\n",
            "\u001b[1m10/10\u001b[0m \u001b[32m━━━━━━━━━━━━━━━━━━━━\u001b[0m\u001b[37m\u001b[0m \u001b[1m0s\u001b[0m 2ms/step - loss: 2.8228 - mean_squared_error: 13.4254 - learning_rate: 0.1122\n",
            "Epoch 43/100\n",
            "\u001b[1m10/10\u001b[0m \u001b[32m━━━━━━━━━━━━━━━━━━━━\u001b[0m\u001b[37m\u001b[0m \u001b[1m0s\u001b[0m 973us/step - loss: 1.1361 - mean_squared_error: 4.8818 - learning_rate: 0.1259\n",
            "Epoch 44/100\n",
            "\u001b[1m10/10\u001b[0m \u001b[32m━━━━━━━━━━━━━━━━━━━━\u001b[0m\u001b[37m\u001b[0m \u001b[1m0s\u001b[0m 1ms/step - loss: 2.2003 - mean_squared_error: 11.3262 - learning_rate: 0.1413\n",
            "Epoch 45/100\n",
            "\u001b[1m10/10\u001b[0m \u001b[32m━━━━━━━━━━━━━━━━━━━━\u001b[0m\u001b[37m\u001b[0m \u001b[1m0s\u001b[0m 2ms/step - loss: 2.4904 - mean_squared_error: 14.6504 - learning_rate: 0.1585\n",
            "Epoch 46/100\n",
            "\u001b[1m10/10\u001b[0m \u001b[32m━━━━━━━━━━━━━━━━━━━━\u001b[0m\u001b[37m\u001b[0m \u001b[1m0s\u001b[0m 1ms/step - loss: 2.9000 - mean_squared_error: 13.2303 - learning_rate: 0.1778\n",
            "Epoch 47/100\n",
            "\u001b[1m10/10\u001b[0m \u001b[32m━━━━━━━━━━━━━━━━━━━━\u001b[0m\u001b[37m\u001b[0m \u001b[1m0s\u001b[0m 1ms/step - loss: 7.8370 - mean_squared_error: 102.1106 - learning_rate: 0.1995\n",
            "Epoch 48/100\n",
            "\u001b[1m10/10\u001b[0m \u001b[32m━━━━━━━━━━━━━━━━━━━━\u001b[0m\u001b[37m\u001b[0m \u001b[1m0s\u001b[0m 1ms/step - loss: 2.5671 - mean_squared_error: 11.0368 - learning_rate: 0.2239\n",
            "Epoch 49/100\n",
            "\u001b[1m10/10\u001b[0m \u001b[32m━━━━━━━━━━━━━━━━━━━━\u001b[0m\u001b[37m\u001b[0m \u001b[1m0s\u001b[0m 1ms/step - loss: 6.8161 - mean_squared_error: 99.4598 - learning_rate: 0.2512\n",
            "Epoch 50/100\n",
            "\u001b[1m10/10\u001b[0m \u001b[32m━━━━━━━━━━━━━━━━━━━━\u001b[0m\u001b[37m\u001b[0m \u001b[1m0s\u001b[0m 1ms/step - loss: 0.7976 - mean_squared_error: 2.2619 - learning_rate: 0.2818\n",
            "Epoch 51/100\n",
            "\u001b[1m10/10\u001b[0m \u001b[32m━━━━━━━━━━━━━━━━━━━━\u001b[0m\u001b[37m\u001b[0m \u001b[1m0s\u001b[0m 2ms/step - loss: 0.7551 - mean_squared_error: 2.4271 - learning_rate: 0.3162\n",
            "Epoch 52/100\n",
            "\u001b[1m10/10\u001b[0m \u001b[32m━━━━━━━━━━━━━━━━━━━━\u001b[0m\u001b[37m\u001b[0m \u001b[1m0s\u001b[0m 911us/step - loss: 0.7453 - mean_squared_error: 1.8779 - learning_rate: 0.3548\n",
            "Epoch 53/100\n",
            "\u001b[1m10/10\u001b[0m \u001b[32m━━━━━━━━━━━━━━━━━━━━\u001b[0m\u001b[37m\u001b[0m \u001b[1m0s\u001b[0m 1ms/step - loss: 1.3645 - mean_squared_error: 5.0209 - learning_rate: 0.3981\n",
            "Epoch 54/100\n",
            "\u001b[1m10/10\u001b[0m \u001b[32m━━━━━━━━━━━━━━━━━━━━\u001b[0m\u001b[37m\u001b[0m \u001b[1m0s\u001b[0m 1ms/step - loss: 1.6989 - mean_squared_error: 5.9376 - learning_rate: 0.4467\n",
            "Epoch 55/100\n",
            "\u001b[1m10/10\u001b[0m \u001b[32m━━━━━━━━━━━━━━━━━━━━\u001b[0m\u001b[37m\u001b[0m \u001b[1m0s\u001b[0m 2ms/step - loss: 2.4013 - mean_squared_error: 10.2401 - learning_rate: 0.5012\n",
            "Epoch 56/100\n",
            "\u001b[1m10/10\u001b[0m \u001b[32m━━━━━━━━━━━━━━━━━━━━\u001b[0m\u001b[37m\u001b[0m \u001b[1m0s\u001b[0m 2ms/step - loss: 2.7574 - mean_squared_error: 12.9364 - learning_rate: 0.5623\n",
            "Epoch 57/100\n",
            "\u001b[1m10/10\u001b[0m \u001b[32m━━━━━━━━━━━━━━━━━━━━\u001b[0m\u001b[37m\u001b[0m \u001b[1m0s\u001b[0m 3ms/step - loss: 2.7005 - mean_squared_error: 12.5265 - learning_rate: 0.6310\n",
            "Epoch 58/100\n",
            "\u001b[1m10/10\u001b[0m \u001b[32m━━━━━━━━━━━━━━━━━━━━\u001b[0m\u001b[37m\u001b[0m \u001b[1m0s\u001b[0m 1ms/step - loss: 2.5359 - mean_squared_error: 11.2576 - learning_rate: 0.7079\n",
            "Epoch 59/100\n",
            "\u001b[1m10/10\u001b[0m \u001b[32m━━━━━━━━━━━━━━━━━━━━\u001b[0m\u001b[37m\u001b[0m \u001b[1m0s\u001b[0m 2ms/step - loss: 2.4854 - mean_squared_error: 10.8489 - learning_rate: 0.7943\n",
            "Epoch 60/100\n",
            "\u001b[1m10/10\u001b[0m \u001b[32m━━━━━━━━━━━━━━━━━━━━\u001b[0m\u001b[37m\u001b[0m \u001b[1m0s\u001b[0m 2ms/step - loss: 2.5554 - mean_squared_error: 11.3327 - learning_rate: 0.8913\n",
            "Epoch 61/100\n",
            "\u001b[1m10/10\u001b[0m \u001b[32m━━━━━━━━━━━━━━━━━━━━\u001b[0m\u001b[37m\u001b[0m \u001b[1m0s\u001b[0m 2ms/step - loss: 2.6286 - mean_squared_error: 11.8607 - learning_rate: 1.0000\n",
            "Epoch 62/100\n",
            "\u001b[1m10/10\u001b[0m \u001b[32m━━━━━━━━━━━━━━━━━━━━\u001b[0m\u001b[37m\u001b[0m \u001b[1m0s\u001b[0m 1ms/step - loss: 2.6496 - mean_squared_error: 11.9981 - learning_rate: 1.1220\n",
            "Epoch 63/100\n",
            "\u001b[1m10/10\u001b[0m \u001b[32m━━━━━━━━━━━━━━━━━━━━\u001b[0m\u001b[37m\u001b[0m \u001b[1m0s\u001b[0m 2ms/step - loss: 2.6691 - mean_squared_error: 12.1129 - learning_rate: 1.2589\n",
            "Epoch 64/100\n",
            "\u001b[1m10/10\u001b[0m \u001b[32m━━━━━━━━━━━━━━━━━━━━\u001b[0m\u001b[37m\u001b[0m \u001b[1m0s\u001b[0m 2ms/step - loss: 2.7185 - mean_squared_error: 12.4540 - learning_rate: 1.4125\n",
            "Epoch 65/100\n",
            "\u001b[1m10/10\u001b[0m \u001b[32m━━━━━━━━━━━━━━━━━━━━\u001b[0m\u001b[37m\u001b[0m \u001b[1m0s\u001b[0m 2ms/step - loss: 2.7694 - mean_squared_error: 12.8123 - learning_rate: 1.5849\n",
            "Epoch 66/100\n",
            "\u001b[1m10/10\u001b[0m \u001b[32m━━━━━━━━━━━━━━━━━━━━\u001b[0m\u001b[37m\u001b[0m \u001b[1m0s\u001b[0m 2ms/step - loss: 2.8176 - mean_squared_error: 13.1479 - learning_rate: 1.7783\n",
            "Epoch 67/100\n",
            "\u001b[1m10/10\u001b[0m \u001b[32m━━━━━━━━━━━━━━━━━━━━\u001b[0m\u001b[37m\u001b[0m \u001b[1m0s\u001b[0m 4ms/step - loss: 2.8802 - mean_squared_error: 13.5957 - learning_rate: 1.9953\n",
            "Epoch 68/100\n",
            "\u001b[1m10/10\u001b[0m \u001b[32m━━━━━━━━━━━━━━━━━━━━\u001b[0m\u001b[37m\u001b[0m \u001b[1m0s\u001b[0m 3ms/step - loss: 2.9468 - mean_squared_error: 14.0802 - learning_rate: 2.2387\n",
            "Epoch 69/100\n",
            "\u001b[1m10/10\u001b[0m \u001b[32m━━━━━━━━━━━━━━━━━━━━\u001b[0m\u001b[37m\u001b[0m \u001b[1m0s\u001b[0m 2ms/step - loss: 3.0249 - mean_squared_error: 14.6579 - learning_rate: 2.5119\n",
            "Epoch 70/100\n",
            "\u001b[1m10/10\u001b[0m \u001b[32m━━━━━━━━━━━━━━━━━━━━\u001b[0m\u001b[37m\u001b[0m \u001b[1m0s\u001b[0m 2ms/step - loss: 3.1102 - mean_squared_error: 15.3023 - learning_rate: 2.8184\n",
            "Epoch 71/100\n",
            "\u001b[1m10/10\u001b[0m \u001b[32m━━━━━━━━━━━━━━━━━━━━\u001b[0m\u001b[37m\u001b[0m \u001b[1m0s\u001b[0m 2ms/step - loss: 3.2130 - mean_squared_error: 16.0973 - learning_rate: 3.1623\n",
            "Epoch 72/100\n",
            "\u001b[1m10/10\u001b[0m \u001b[32m━━━━━━━━━━━━━━━━━━━━\u001b[0m\u001b[37m\u001b[0m \u001b[1m0s\u001b[0m 895us/step - loss: 3.3178 - mean_squared_error: 16.9226 - learning_rate: 3.5481\n",
            "Epoch 73/100\n",
            "\u001b[1m10/10\u001b[0m \u001b[32m━━━━━━━━━━━━━━━━━━━━\u001b[0m\u001b[37m\u001b[0m \u001b[1m0s\u001b[0m 2ms/step - loss: 3.4583 - mean_squared_error: 18.0784 - learning_rate: 3.9811\n",
            "Epoch 74/100\n",
            "\u001b[1m10/10\u001b[0m \u001b[32m━━━━━━━━━━━━━━━━━━━━\u001b[0m\u001b[37m\u001b[0m \u001b[1m0s\u001b[0m 978us/step - loss: 3.5753 - mean_squared_error: 19.0479 - learning_rate: 4.4668\n",
            "Epoch 75/100\n",
            "\u001b[1m10/10\u001b[0m \u001b[32m━━━━━━━━━━━━━━━━━━━━\u001b[0m\u001b[37m\u001b[0m \u001b[1m0s\u001b[0m 1ms/step - loss: 3.6699 - mean_squared_error: 19.8083 - learning_rate: 5.0119\n",
            "Epoch 76/100\n",
            "\u001b[1m10/10\u001b[0m \u001b[32m━━━━━━━━━━━━━━━━━━━━\u001b[0m\u001b[37m\u001b[0m \u001b[1m0s\u001b[0m 1ms/step - loss: 3.7483 - mean_squared_error: 20.4500 - learning_rate: 5.6234\n",
            "Epoch 77/100\n",
            "\u001b[1m10/10\u001b[0m \u001b[32m━━━━━━━━━━━━━━━━━━━━\u001b[0m\u001b[37m\u001b[0m \u001b[1m0s\u001b[0m 1ms/step - loss: 3.9428 - mean_squared_error: 22.2077 - learning_rate: 6.3096\n",
            "Epoch 78/100\n",
            "\u001b[1m10/10\u001b[0m \u001b[32m━━━━━━━━━━━━━━━━━━━━\u001b[0m\u001b[37m\u001b[0m \u001b[1m0s\u001b[0m 2ms/step - loss: 4.1181 - mean_squared_error: 23.8710 - learning_rate: 7.0795\n",
            "Epoch 79/100\n",
            "\u001b[1m10/10\u001b[0m \u001b[32m━━━━━━━━━━━━━━━━━━━━\u001b[0m\u001b[37m\u001b[0m \u001b[1m0s\u001b[0m 2ms/step - loss: 4.2638 - mean_squared_error: 25.2788 - learning_rate: 7.9433\n",
            "Epoch 80/100\n",
            "\u001b[1m10/10\u001b[0m \u001b[32m━━━━━━━━━━━━━━━━━━━━\u001b[0m\u001b[37m\u001b[0m \u001b[1m0s\u001b[0m 922us/step - loss: 4.3662 - mean_squared_error: 26.3208 - learning_rate: 8.9125\n",
            "Epoch 81/100\n",
            "\u001b[1m10/10\u001b[0m \u001b[32m━━━━━━━━━━━━━━━━━━━━\u001b[0m\u001b[37m\u001b[0m \u001b[1m0s\u001b[0m 2ms/step - loss: 4.8191 - mean_squared_error: 31.1942 - learning_rate: 10.0000\n",
            "Epoch 82/100\n",
            "\u001b[1m10/10\u001b[0m \u001b[32m━━━━━━━━━━━━━━━━━━━━\u001b[0m\u001b[37m\u001b[0m \u001b[1m0s\u001b[0m 2ms/step - loss: 5.1988 - mean_squared_error: 35.7158 - learning_rate: 11.2202\n",
            "Epoch 83/100\n",
            "\u001b[1m10/10\u001b[0m \u001b[32m━━━━━━━━━━━━━━━━━━━━\u001b[0m\u001b[37m\u001b[0m \u001b[1m0s\u001b[0m 2ms/step - loss: 5.4693 - mean_squared_error: 39.0594 - learning_rate: 12.5893\n",
            "Epoch 84/100\n",
            "\u001b[1m10/10\u001b[0m \u001b[32m━━━━━━━━━━━━━━━━━━━━\u001b[0m\u001b[37m\u001b[0m \u001b[1m0s\u001b[0m 1ms/step - loss: 5.7119 - mean_squared_error: 42.2478 - learning_rate: 14.1254\n",
            "Epoch 85/100\n",
            "\u001b[1m10/10\u001b[0m \u001b[32m━━━━━━━━━━━━━━━━━━━━\u001b[0m\u001b[37m\u001b[0m \u001b[1m0s\u001b[0m 927us/step - loss: 5.9602 - mean_squared_error: 45.7974 - learning_rate: 15.8489\n",
            "Epoch 86/100\n",
            "\u001b[1m10/10\u001b[0m \u001b[32m━━━━━━━━━━━━━━━━━━━━\u001b[0m\u001b[37m\u001b[0m \u001b[1m0s\u001b[0m 2ms/step - loss: 6.1608 - mean_squared_error: 48.9297 - learning_rate: 17.7828\n",
            "Epoch 87/100\n",
            "\u001b[1m10/10\u001b[0m \u001b[32m━━━━━━━━━━━━━━━━━━━━\u001b[0m\u001b[37m\u001b[0m \u001b[1m0s\u001b[0m 2ms/step - loss: 6.9568 - mean_squared_error: 60.5821 - learning_rate: 19.9526\n",
            "Epoch 88/100\n",
            "\u001b[1m10/10\u001b[0m \u001b[32m━━━━━━━━━━━━━━━━━━━━\u001b[0m\u001b[37m\u001b[0m \u001b[1m0s\u001b[0m 2ms/step - loss: 7.6402 - mean_squared_error: 72.2256 - learning_rate: 22.3872\n",
            "Epoch 89/100\n",
            "\u001b[1m10/10\u001b[0m \u001b[32m━━━━━━━━━━━━━━━━━━━━\u001b[0m\u001b[37m\u001b[0m \u001b[1m0s\u001b[0m 2ms/step - loss: 8.1500 - mean_squared_error: 81.9405 - learning_rate: 25.1189\n",
            "Epoch 90/100\n",
            "\u001b[1m10/10\u001b[0m \u001b[32m━━━━━━━━━━━━━━━━━━━━\u001b[0m\u001b[37m\u001b[0m \u001b[1m0s\u001b[0m 3ms/step - loss: 8.6215 - mean_squared_error: 92.0336 - learning_rate: 28.1838\n",
            "Epoch 91/100\n",
            "\u001b[1m10/10\u001b[0m \u001b[32m━━━━━━━━━━━━━━━━━━━━\u001b[0m\u001b[37m\u001b[0m \u001b[1m0s\u001b[0m 2ms/step - loss: 9.1111 - mean_squared_error: 103.8107 - learning_rate: 31.6228\n",
            "Epoch 92/100\n",
            "\u001b[1m10/10\u001b[0m \u001b[32m━━━━━━━━━━━━━━━━━━━━\u001b[0m\u001b[37m\u001b[0m \u001b[1m0s\u001b[0m 958us/step - loss: 8.9977 - mean_squared_error: 102.0156 - learning_rate: 35.4813\n",
            "Epoch 93/100\n",
            "\u001b[1m10/10\u001b[0m \u001b[32m━━━━━━━━━━━━━━━━━━━━\u001b[0m\u001b[37m\u001b[0m \u001b[1m0s\u001b[0m 1ms/step - loss: 14.3435 - mean_squared_error: 259.2637 - learning_rate: 39.8107\n",
            "Epoch 94/100\n",
            "\u001b[1m10/10\u001b[0m \u001b[32m━━━━━━━━━━━━━━━━━━━━\u001b[0m\u001b[37m\u001b[0m \u001b[1m0s\u001b[0m 2ms/step - loss: 9.7096 - mean_squared_error: 120.6121 - learning_rate: 44.6684\n",
            "Epoch 95/100\n",
            "\u001b[1m10/10\u001b[0m \u001b[32m━━━━━━━━━━━━━━━━━━━━\u001b[0m\u001b[37m\u001b[0m \u001b[1m0s\u001b[0m 2ms/step - loss: 14.4681 - mean_squared_error: 303.2966 - learning_rate: 50.1187\n",
            "Epoch 96/100\n",
            "\u001b[1m10/10\u001b[0m \u001b[32m━━━━━━━━━━━━━━━━━━━━\u001b[0m\u001b[37m\u001b[0m \u001b[1m0s\u001b[0m 1ms/step - loss: 7.2630 - mean_squared_error: 70.8293 - learning_rate: 56.2341\n",
            "Epoch 97/100\n",
            "\u001b[1m10/10\u001b[0m \u001b[32m━━━━━━━━━━━━━━━━━━━━\u001b[0m\u001b[37m\u001b[0m \u001b[1m0s\u001b[0m 2ms/step - loss: 2.8577 - mean_squared_error: 13.7800 - learning_rate: 63.0957\n",
            "Epoch 98/100\n",
            "\u001b[1m10/10\u001b[0m \u001b[32m━━━━━━━━━━━━━━━━━━━━\u001b[0m\u001b[37m\u001b[0m \u001b[1m0s\u001b[0m 1ms/step - loss: 11.6216 - mean_squared_error: 161.2891 - learning_rate: 70.7946\n",
            "Epoch 99/100\n",
            "\u001b[1m10/10\u001b[0m \u001b[32m━━━━━━━━━━━━━━━━━━━━\u001b[0m\u001b[37m\u001b[0m \u001b[1m0s\u001b[0m 1ms/step - loss: 7.2412 - mean_squared_error: 94.9732 - learning_rate: 79.4328\n",
            "Epoch 100/100\n",
            "\u001b[1m10/10\u001b[0m \u001b[32m━━━━━━━━━━━━━━━━━━━━\u001b[0m\u001b[37m\u001b[0m \u001b[1m0s\u001b[0m 1ms/step - loss: 11.9463 - mean_squared_error: 196.8284 - learning_rate: 89.1251\n"
          ]
        }
      ],
      "source": [
        "# Run the training with dynamic learning rate\n",
        "learning_rate_history = adjust_learning_rate(dataset)"
      ]
    },
    {
      "cell_type": "code",
      "execution_count": 75,
      "metadata": {},
      "outputs": [
        {
          "data": {
            "image/png": "[encoded data removed]",
            "text/plain": [
              "<Figure size 1000x600 with 1 Axes>"
            ]
          },
          "metadata": {},
          "output_type": "display_data"
        }
      ],
      "source": [
        "# Define variables for learning rate and loss\n",
        "learning_rate = learning_rate_history.history[\"learning_rate\"]\n",
        "loss = learning_rate_history.history[\"loss\"]\n",
        "\n",
        "# Define axis limits\n",
        "x_axis_limits = [1e-3, 1e-1]\n",
        "y_axis_limits = [0, 20]\n",
        "\n",
        "# Create a new figure with a specified size\n",
        "plt.figure(figsize=(10, 6))\n",
        "\n",
        "# Enable grid\n",
        "plt.grid(True)\n",
        "\n",
        "# Plot learning rate vs loss with a logarithmic scale on the x-axis\n",
        "plt.semilogx(learning_rate, loss)\n",
        "\n",
        "# Set the limits of the x and y axes\n",
        "plt.axis(x_axis_limits + y_axis_limits)\n",
        "\n",
        "# Set the title of the plot\n",
        "plt.title('Learning rate vs Loss')\n",
        "\n",
        "# Label the x and y axes\n",
        "plt.xlabel('Learning Rate')\n",
        "plt.ylabel('Loss')\n",
        "\n",
        "# Display the plot\n",
        "plt.show()"
      ]
    },
    {
      "cell_type": "markdown",
      "metadata": {},
      "source": [
        "Based on the graph above, I would like to choose the learning rate of 3e-2 for training the model."
      ]
    },
    {
      "cell_type": "markdown",
      "metadata": {},
      "source": [
        "### Train the Model"
      ]
    },
    {
      "cell_type": "code",
      "execution_count": 76,
      "metadata": {},
      "outputs": [],
      "source": [
        "# Reset states generated by Keras\n",
        "tf.keras.backend.clear_session()\n",
        "\n",
        "# Reset the weights\n",
        "model.set_weights(init_weights)"
      ]
    },
    {
      "cell_type": "markdown",
      "metadata": {},
      "source": [
        "<details>\n",
        "<summary><span style=\"color:green\"><b>Click to see explanation</span><b></summary>\n",
        "\n",
        "This code is doing two things:\n",
        "\n",
        "1. `tf.keras.backend.clear_session()`: This line is used to clear any leftover state from Keras. When you're running models, Keras keeps track of things like previously trained models, layers, and so on. This line clears all that out, so you're starting fresh.\n",
        "\n",
        "2. `model.set_weights(init_weights)`: This line is resetting the weights of your model to their initial state. When you train a model, it changes its weights based on the input data. If you want to run the model again with the same initial weights (for example, to try training with different parameters), you can use this line to reset the weights back to their initial state.\n",
        "\n",
        "</details>"
      ]
    },
    {
      "cell_type": "code",
      "execution_count": 80,
      "metadata": {},
      "outputs": [],
      "source": [
        "# Set the learning rate\n",
        "learning_rate = 3e-2\n",
        "\n",
        "# Set the optimizer with the learning rate\n",
        "optimizer = tf.keras.optimizers.Adam(learning_rate=learning_rate)\n",
        "\n",
        "# Set the loss function\n",
        "loss = tf.keras.losses.Huber()\n",
        "\n",
        "# Set the training parameters\n",
        "model.compile(\n",
        "    loss=loss,\n",
        "    optimizer=optimizer,\n",
        "    metrics=[\"mse\"],\n",
        ")"
      ]
    },
    {
      "cell_type": "code",
      "execution_count": 81,
      "metadata": {},
      "outputs": [
        {
          "name": "stdout",
          "output_type": "stream",
          "text": [
            "Epoch 1/100\n",
            "\u001b[1m 1/10\u001b[0m \u001b[32m━━\u001b[0m\u001b[37m━━━━━━━━━━━━━━━━━━\u001b[0m \u001b[1m12s\u001b[0m 1s/step - loss: 0.0111 - mse: 0.0221\n",
            "Reached 0.05 loss so cancelling training!\n",
            "\u001b[1m10/10\u001b[0m \u001b[32m━━━━━━━━━━━━━━━━━━━━\u001b[0m\u001b[37m\u001b[0m \u001b[1m1s\u001b[0m 2ms/step - loss: 0.0066 - mse: 0.0131\n"
          ]
        }
      ],
      "source": [
        "# Train the model\n",
        "history = model.fit(dataset, epochs=100, callbacks=[LossCallback()])"
      ]
    },
    {
      "cell_type": "markdown",
      "metadata": {},
      "source": [
        "## Predict the Output"
      ]
    },
    {
      "cell_type": "code",
      "execution_count": 87,
      "metadata": {},
      "outputs": [],
      "source": [
        "def make_predictions(input_values, trained_model):\n",
        "    \"\"\"\n",
        "    This function takes an array of input values and a trained model,\n",
        "    reshapes the input for compatibility with the model,\n",
        "    makes predictions, and rounds them to the nearest integer.\n",
        "    \n",
        "    Args:\n",
        "        input_values (np.array): The input values for prediction\n",
        "        trained_model (keras.Model): The pre-trained model to use for prediction\n",
        "\n",
        "    Returns:\n",
        "        np.array: The rounded predictions\n",
        "    \"\"\"\n",
        "    # Reshape the input_values to ensure compatibility with the model\n",
        "    reshaped_input = input_values.reshape(-1, 1)\n",
        "    \n",
        "    # Use the model to make predictions\n",
        "    raw_predictions = trained_model.predict(reshaped_input)\n",
        "    \n",
        "    # Round the predictions to the nearest integer\n",
        "    rounded_predictions = raw_predictions.round()\n",
        "    \n",
        "    return rounded_predictions"
      ]
    },
    {
      "cell_type": "code",
      "execution_count": 88,
      "metadata": {},
      "outputs": [
        {
          "name": "stdout",
          "output_type": "stream",
          "text": [
            "\u001b[1m1/1\u001b[0m \u001b[32m━━━━━━━━━━━━━━━━━━━━\u001b[0m\u001b[37m\u001b[0m \u001b[1m0s\u001b[0m 20ms/step\n",
            "Prediction for input 4: 13.0\n",
            "Prediction for input 5: 14.0\n"
          ]
        }
      ],
      "source": [
        "# Define the input data\n",
        "input_data = np.array([4, 5])\n",
        "\n",
        "# Use the function to make predictions\n",
        "predictions = make_predictions(input_data, model)\n",
        "\n",
        "# Print the predictions\n",
        "for i, prediction in enumerate(predictions):\n",
        "    print(f\"Prediction for input {input_data[i]}: {prediction[0]}\")"
      ]
    },
    {
      "cell_type": "markdown",
      "metadata": {},
      "source": [
        "## Conclusion\n",
        "\n",
        "As we can see, the model above is able to predict the output precisely based on the input. The proof of what I mean **precisely** is that the model is able to predict the output with a very small error rate. \n",
        "\n",
        "The input and output from the X and Y are as follows:\n",
        "\n",
        "- X = [-4.0, -3.0, -2.0, -1.0, 0.0, 1.0, 2.0, 3.0, 4.0, 5.0]\n",
        "\n",
        "- Y = [5.0, 6.0, 7.0, 8.0, 9.0, 10.0, 11.0, 12.0, 13.0, 14.0]\n",
        "\n",
        "When the machine learning model takes the input X = 4 and predicts the output Y, the model predicts the output Y = 13.0. This is the correct output, as the actual output is 13.0.\n",
        "\n",
        "Below I will show the linear algebra equations that represent the relationship between X and Y and linear regression plot of the data points X and Y."
      ]
    },
    {
      "cell_type": "markdown",
      "metadata": {},
      "source": [
        "### Linear Algebra Equations"
      ]
    },
    {
      "cell_type": "code",
      "execution_count": 95,
      "metadata": {},
      "outputs": [
        {
          "name": "stdout",
          "output_type": "stream",
          "text": [
            "Slope: 1.0000, Intercept: 9.0000\n"
          ]
        }
      ],
      "source": [
        "# Defining the data points\n",
        "X = np.array([-4.0, -3.0, -2.0, -1.0, 0.0, 1.0, 2.0, 3.0, 4.0, 5.0], dtype=float)\n",
        "Y = np.array([5.0, 6.0, 7.0, 8.0, 9.0, 10.0, 11.0, 12.0, 13.0, 14.0], dtype=float)\n",
        "\n",
        "# Perform linear regression to find the slope and intercept of the best fit line\n",
        "slope, intercept = np.polyfit(X, Y, 1)\n",
        "\n",
        "# Print the slope and intercept\n",
        "print(f\"Slope: {slope:.4f}, Intercept: {intercept:.4f}\")"
      ]
    },
    {
      "cell_type": "markdown",
      "metadata": {},
      "source": [
        "The linear equation derived from the slope and intercept is:\n",
        "\n",
        "$$ y = mx + c $$\n",
        "\n",
        "where:\n",
        "- $m$ is the slope\n",
        "- $c$ is the intercept\n",
        "\n",
        "Now, since the slope and intercept are known, we can substitute the values into the equation:\n",
        "\n",
        "$$ y = 1.0x + 9.0 $$"
      ]
    },
    {
      "cell_type": "markdown",
      "metadata": {},
      "source": [
        "### Linear Regression Plot"
      ]
    },
    {
      "cell_type": "code",
      "execution_count": 96,
      "metadata": {},
      "outputs": [
        {
          "data": {
            "image/png": "[encoded data removed]",
            "text/plain": [
              "<Figure size 1000x600 with 1 Axes>"
            ]
          },
          "metadata": {},
          "output_type": "display_data"
        }
      ],
      "source": [
        "# Generate y-values for the best fit line\n",
        "best_fit_Y = slope * X + intercept\n",
        "\n",
        "# Define the size of the figure\n",
        "plt.figure(figsize=(10, 6))\n",
        "\n",
        "# Plot the original data points\n",
        "plt.scatter(X, Y, color='blue', s=50, label='Data points')\n",
        "\n",
        "# Plot the best fit line\n",
        "plt.plot(X, best_fit_Y, color='red', linewidth=2, label='Best fit line')\n",
        "\n",
        "# Add a title\n",
        "plt.title('Linear Regression Best Fit Line', fontsize=16)\n",
        "\n",
        "# Add x and y labels\n",
        "plt.xlabel('X', fontsize=14)\n",
        "plt.ylabel('Y', fontsize=14)\n",
        "\n",
        "# Add a legend\n",
        "plt.legend()\n",
        "\n",
        "# Add grid lines\n",
        "plt.grid(True)\n",
        "\n",
        "# Show the plot\n",
        "plt.show()"
      ]
    },
    {
      "cell_type": "markdown",
      "metadata": {},
      "source": [
        "## Closing Remarks\n",
        "\n",
        "Overall, This challenge was a great learning experience for me. I learned how to train a neural network model to match the X to the Y. I also learned how to create a TensorFlow dataset from input and target arrays, define a custom callback, build a neural network model, tune the learning rate, train the model, and predict the output. I'm excited to apply these skills to future projects.\n",
        "\n",
        "I would like to thank Insturctor [Rahmat Fajri](https://github.com/rfajri27) for leading the session and providing the challenge. I would also like to thank the Bangkit team for organizing the session. I look forward to attending more sessions in the future."
      ]
    }
  ],
  "metadata": {
    "colab": {
      "provenance": []
    },
    "kernelspec": {
      "display_name": "Python 3",
      "name": "python3"
    },
    "language_info": {
      "codemirror_mode": {
        "name": "ipython",
        "version": 3
      },
      "file_extension": ".py",
      "mimetype": "text/x-python",
      "name": "python",
      "nbconvert_exporter": "python",
      "pygments_lexer": "ipython3",
      "version": "3.11.8"
    }
  },
  "nbformat": 4,
  "nbformat_minor": 0
}
